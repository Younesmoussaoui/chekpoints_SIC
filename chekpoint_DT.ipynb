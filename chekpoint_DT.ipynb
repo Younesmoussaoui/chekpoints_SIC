{
  "nbformat": 4,
  "nbformat_minor": 0,
  "metadata": {
    "colab": {
      "provenance": [],
      "collapsed_sections": [],
      "authorship_tag": "ABX9TyO/7++IOifC7Xrglfh2dv4U",
      "include_colab_link": true
    },
    "kernelspec": {
      "name": "python3",
      "display_name": "Python 3"
    },
    "language_info": {
      "name": "python"
    }
  },
  "cells": [
    {
      "cell_type": "markdown",
      "metadata": {
        "id": "view-in-github",
        "colab_type": "text"
      },
      "source": [
        "<a href=\"https://colab.research.google.com/github/Younesmoussaoui/chekpoints_SIC/blob/main/chekpoint_DT.ipynb\" target=\"_parent\"><img src=\"https://colab.research.google.com/assets/colab-badge.svg\" alt=\"Open In Colab\"/></a>"
      ]
    },
    {
      "cell_type": "code",
      "execution_count": null,
      "metadata": {
        "id": "72jtBjNHE7tP"
      },
      "outputs": [],
      "source": [
        "import numpy as np\n",
        "import pandas as pd\n",
        "import matplotlib.pyplot as plt\n",
        "import warnings\n",
        "from sklearn.model_selection import train_test_split,GridSearchCV\n",
        "from sklearn.tree import DecisionTreeClassifier\n",
        "from sklearn.ensemble import RandomForestClassifier\n",
        "from sklearn import metrics\n",
        "import graphviz"
      ]
    },
    {
      "cell_type": "code",
      "source": [
        "df = pd.read_csv('/content/sample_data/titanic-passengers.csv', sep = ';')\n",
        "df.head()\n",
        "df.info\n",
        "df.describe(include=['object'])\n",
        "print(df.columns)"
      ],
      "metadata": {
        "id": "ovMA2870GF3D",
        "colab": {
          "base_uri": "https://localhost:8080/"
        },
        "outputId": "13dcd10c-9363-4a96-fc02-0fc098b4c378"
      },
      "execution_count": null,
      "outputs": [
        {
          "output_type": "stream",
          "name": "stdout",
          "text": [
            "Index(['PassengerId', 'Survived', 'Pclass', 'Name', 'Sex', 'Age', 'SibSp',\n",
            "       'Parch', 'Ticket', 'Fare', 'Cabin', 'Embarked'],\n",
            "      dtype='object')\n"
          ]
        }
      ]
    },
    {
      "cell_type": "code",
      "source": [
        "df.isnull().sum()"
      ],
      "metadata": {
        "id": "Epi_5aliXWHI",
        "colab": {
          "base_uri": "https://localhost:8080/"
        },
        "outputId": "fcb548f6-4684-40c1-bf88-9217d8801f0d"
      },
      "execution_count": null,
      "outputs": [
        {
          "output_type": "execute_result",
          "data": {
            "text/plain": [
              "PassengerId      0\n",
              "Survived         0\n",
              "Pclass           0\n",
              "Name             0\n",
              "Sex              0\n",
              "Age            177\n",
              "SibSp            0\n",
              "Parch            0\n",
              "Ticket           0\n",
              "Fare             0\n",
              "Cabin          687\n",
              "Embarked         2\n",
              "dtype: int64"
            ]
          },
          "metadata": {},
          "execution_count": 4
        }
      ]
    },
    {
      "cell_type": "code",
      "source": [
        "df.Age.fillna(df.Age.mean(),inplace=True)\n",
        "df.Embarked.fillna(df.Embarked.mode()[0],inplace=True)\n",
        "df.Cabin.fillna(df.Cabin.mode()[0],inplace=True)\n",
        "df['FamilySize']=df.Parch+df.SibSp\n",
        "from sklearn.preprocessing import LabelEncoder \n",
        "labelencoder= LabelEncoder() \n",
        "df['Sex'] = labelencoder.fit_transform(df['Sex'])\n",
        "df['Survived'] = labelencoder.fit_transform(df['Survived'])"
      ],
      "metadata": {
        "id": "gH_bnEsoXe2R"
      },
      "execution_count": null,
      "outputs": []
    },
    {
      "cell_type": "code",
      "source": [
        "df.isna().sum()"
      ],
      "metadata": {
        "id": "WNmlaSrQYCYK",
        "colab": {
          "base_uri": "https://localhost:8080/"
        },
        "outputId": "bcea2f08-c64a-4058-cf02-09869e152c73"
      },
      "execution_count": null,
      "outputs": [
        {
          "output_type": "execute_result",
          "data": {
            "text/plain": [
              "PassengerId    0\n",
              "Survived       0\n",
              "Pclass         0\n",
              "Name           0\n",
              "Sex            0\n",
              "Age            0\n",
              "SibSp          0\n",
              "Parch          0\n",
              "Ticket         0\n",
              "Fare           0\n",
              "Cabin          0\n",
              "Embarked       0\n",
              "FamilySize     0\n",
              "dtype: int64"
            ]
          },
          "metadata": {},
          "execution_count": 6
        }
      ]
    },
    {
      "cell_type": "code",
      "source": [
        "X = df[['Age', 'FamilySize','Pclass','Sex','SibSp']]\n",
        "XX = ['Age', 'FamilySize','Pclass','Sex']\n",
        "Y = df['Survived']"
      ],
      "metadata": {
        "id": "f9heQyHnYEI0"
      },
      "execution_count": null,
      "outputs": []
    },
    {
      "cell_type": "code",
      "source": [
        "from sklearn import tree\n",
        "X_train, X_test, Y_train, Y_test = train_test_split(X, Y, test_size=0.39, random_state=1234)\n",
        "dt = DecisionTreeClassifier()\n",
        "dt.fit(X_train,Y_train)\n",
        "Y_pred = dt.predict(X_test)\n",
        "print( \"Decision tree : \" + str(np.round(metrics.accuracy_score(Y_test,Y_pred),3)))"
      ],
      "metadata": {
        "colab": {
          "base_uri": "https://localhost:8080/"
        },
        "id": "J7LzBotvaGxY",
        "outputId": "3e1f2d5f-ad73-4298-a37b-5c88c094f014"
      },
      "execution_count": null,
      "outputs": [
        {
          "output_type": "stream",
          "name": "stdout",
          "text": [
            "Decision tree : 0.802\n"
          ]
        }
      ]
    },
    {
      "cell_type": "code",
      "source": [
        "X_train, X_test, Y_train, Y_test = train_test_split(X, Y, test_size=0.39, random_state=1234)\n",
        "dt = DecisionTreeClassifier(criterion = 'entropy' , max_depth = 4, min_samples_leaf= 4)\n",
        "dt.fit(X_train,Y_train)\n",
        "Y_pred = dt.predict(X_test)\n",
        "print( \"Decision tree : \" + str(np.round(metrics.accuracy_score(Y_test,Y_pred),3)))\n",
        "graph = graphviz.Source(tree.export_graphviz(dt, class_names=XX, filled=True))\n",
        "graph"
      ],
      "metadata": {
        "id": "LiKFWntCepsn",
        "colab": {
          "base_uri": "https://localhost:8080/",
          "height": 795
        },
        "outputId": "9a7a2cd4-e8c7-408e-f9c4-45332bec4db9"
      },
      "execution_count": 36,
      "outputs": [
        {
          "output_type": "stream",
          "name": "stdout",
          "text": [
            "Decision tree : 0.828\n"
          ]
        },
        {
          "output_type": "execute_result",
          "data": {
            "text/plain": [
              "<graphviz.files.Source at 0x7fe9bc9776d0>"
            ],
            "image/svg+xml": "<?xml version=\"1.0\" encoding=\"UTF-8\" standalone=\"no\"?>\n<!DOCTYPE svg PUBLIC \"-//W3C//DTD SVG 1.1//EN\"\n \"http://www.w3.org/Graphics/SVG/1.1/DTD/svg11.dtd\">\n<!-- Generated by graphviz version 2.40.1 (20161225.0304)\n -->\n<!-- Title: Tree Pages: 1 -->\n<svg width=\"2024pt\" height=\"552pt\"\n viewBox=\"0.00 0.00 2023.50 552.00\" xmlns=\"http://www.w3.org/2000/svg\" xmlns:xlink=\"http://www.w3.org/1999/xlink\">\n<g id=\"graph0\" class=\"graph\" transform=\"scale(1 1) rotate(0) translate(4 548)\">\n<title>Tree</title>\n<polygon fill=\"#ffffff\" stroke=\"transparent\" points=\"-4,4 -4,-548 2019.5,-548 2019.5,4 -4,4\"/>\n<!-- 0 -->\n<g id=\"node1\" class=\"node\">\n<title>0</title>\n<polygon fill=\"#f4c9ab\" stroke=\"#000000\" points=\"1178.5,-544 1046.5,-544 1046.5,-461 1178.5,-461 1178.5,-544\"/>\n<text text-anchor=\"middle\" x=\"1112.5\" y=\"-528.8\" font-family=\"Helvetica,sans-Serif\" font-size=\"14.00\" fill=\"#000000\">X[3] &lt;= 0.5</text>\n<text text-anchor=\"middle\" x=\"1112.5\" y=\"-513.8\" font-family=\"Helvetica,sans-Serif\" font-size=\"14.00\" fill=\"#000000\">entropy = 0.946</text>\n<text text-anchor=\"middle\" x=\"1112.5\" y=\"-498.8\" font-family=\"Helvetica,sans-Serif\" font-size=\"14.00\" fill=\"#000000\">samples = 543</text>\n<text text-anchor=\"middle\" x=\"1112.5\" y=\"-483.8\" font-family=\"Helvetica,sans-Serif\" font-size=\"14.00\" fill=\"#000000\">value = [345, 198]</text>\n<text text-anchor=\"middle\" x=\"1112.5\" y=\"-468.8\" font-family=\"Helvetica,sans-Serif\" font-size=\"14.00\" fill=\"#000000\">class = Age</text>\n</g>\n<!-- 1 -->\n<g id=\"node2\" class=\"node\">\n<title>1</title>\n<polygon fill=\"#86c3ef\" stroke=\"#000000\" points=\"982,-425 845,-425 845,-342 982,-342 982,-425\"/>\n<text text-anchor=\"middle\" x=\"913.5\" y=\"-409.8\" font-family=\"Helvetica,sans-Serif\" font-size=\"14.00\" fill=\"#000000\">X[2] &lt;= 2.5</text>\n<text text-anchor=\"middle\" x=\"913.5\" y=\"-394.8\" font-family=\"Helvetica,sans-Serif\" font-size=\"14.00\" fill=\"#000000\">entropy = 0.854</text>\n<text text-anchor=\"middle\" x=\"913.5\" y=\"-379.8\" font-family=\"Helvetica,sans-Serif\" font-size=\"14.00\" fill=\"#000000\">samples = 172</text>\n<text text-anchor=\"middle\" x=\"913.5\" y=\"-364.8\" font-family=\"Helvetica,sans-Serif\" font-size=\"14.00\" fill=\"#000000\">value = [48, 124]</text>\n<text text-anchor=\"middle\" x=\"913.5\" y=\"-349.8\" font-family=\"Helvetica,sans-Serif\" font-size=\"14.00\" fill=\"#000000\">class = FamilySize</text>\n</g>\n<!-- 0&#45;&gt;1 -->\n<g id=\"edge1\" class=\"edge\">\n<title>0&#45;&gt;1</title>\n<path fill=\"none\" stroke=\"#000000\" d=\"M1046.2359,-462.8747C1028.5518,-452.2998 1009.2853,-440.7787 991.0534,-429.8762\"/>\n<polygon fill=\"#000000\" stroke=\"#000000\" points=\"992.5767,-426.709 982.1978,-424.5806 988.9841,-432.7168 992.5767,-426.709\"/>\n<text text-anchor=\"middle\" x=\"988.2971\" y=\"-445.1252\" font-family=\"Helvetica,sans-Serif\" font-size=\"14.00\" fill=\"#000000\">True</text>\n</g>\n<!-- 16 -->\n<g id=\"node17\" class=\"node\">\n<title>16</title>\n<polygon fill=\"#eba06a\" stroke=\"#000000\" points=\"1318.5,-425 1194.5,-425 1194.5,-342 1318.5,-342 1318.5,-425\"/>\n<text text-anchor=\"middle\" x=\"1256.5\" y=\"-409.8\" font-family=\"Helvetica,sans-Serif\" font-size=\"14.00\" fill=\"#000000\">X[2] &lt;= 1.5</text>\n<text text-anchor=\"middle\" x=\"1256.5\" y=\"-394.8\" font-family=\"Helvetica,sans-Serif\" font-size=\"14.00\" fill=\"#000000\">entropy = 0.721</text>\n<text text-anchor=\"middle\" x=\"1256.5\" y=\"-379.8\" font-family=\"Helvetica,sans-Serif\" font-size=\"14.00\" fill=\"#000000\">samples = 371</text>\n<text text-anchor=\"middle\" x=\"1256.5\" y=\"-364.8\" font-family=\"Helvetica,sans-Serif\" font-size=\"14.00\" fill=\"#000000\">value = [297, 74]</text>\n<text text-anchor=\"middle\" x=\"1256.5\" y=\"-349.8\" font-family=\"Helvetica,sans-Serif\" font-size=\"14.00\" fill=\"#000000\">class = Age</text>\n</g>\n<!-- 0&#45;&gt;16 -->\n<g id=\"edge16\" class=\"edge\">\n<title>0&#45;&gt;16</title>\n<path fill=\"none\" stroke=\"#000000\" d=\"M1162.8642,-460.8796C1174.1985,-451.513 1186.3215,-441.4948 1197.9581,-431.8784\"/>\n<polygon fill=\"#000000\" stroke=\"#000000\" points=\"1200.4419,-434.3663 1205.9208,-425.2981 1195.9827,-428.9703 1200.4419,-434.3663\"/>\n<text text-anchor=\"middle\" x=\"1203.5551\" y=\"-446.4859\" font-family=\"Helvetica,sans-Serif\" font-size=\"14.00\" fill=\"#000000\">False</text>\n</g>\n<!-- 2 -->\n<g id=\"node3\" class=\"node\">\n<title>2</title>\n<polygon fill=\"#43a2e6\" stroke=\"#000000\" points=\"525,-306 388,-306 388,-223 525,-223 525,-306\"/>\n<text text-anchor=\"middle\" x=\"456.5\" y=\"-290.8\" font-family=\"Helvetica,sans-Serif\" font-size=\"14.00\" fill=\"#000000\">X[1] &lt;= 2.5</text>\n<text text-anchor=\"middle\" x=\"456.5\" y=\"-275.8\" font-family=\"Helvetica,sans-Serif\" font-size=\"14.00\" fill=\"#000000\">entropy = 0.271</text>\n<text text-anchor=\"middle\" x=\"456.5\" y=\"-260.8\" font-family=\"Helvetica,sans-Serif\" font-size=\"14.00\" fill=\"#000000\">samples = 86</text>\n<text text-anchor=\"middle\" x=\"456.5\" y=\"-245.8\" font-family=\"Helvetica,sans-Serif\" font-size=\"14.00\" fill=\"#000000\">value = [4, 82]</text>\n<text text-anchor=\"middle\" x=\"456.5\" y=\"-230.8\" font-family=\"Helvetica,sans-Serif\" font-size=\"14.00\" fill=\"#000000\">class = FamilySize</text>\n</g>\n<!-- 1&#45;&gt;2 -->\n<g id=\"edge2\" class=\"edge\">\n<title>1&#45;&gt;2</title>\n<path fill=\"none\" stroke=\"#000000\" d=\"M844.5877,-365.5557C761.5142,-343.9238 622.231,-307.6553 535.0643,-284.9577\"/>\n<polygon fill=\"#000000\" stroke=\"#000000\" points=\"535.784,-281.5284 525.2247,-282.3955 534.02,-288.3025 535.784,-281.5284\"/>\n</g>\n<!-- 9 -->\n<g id=\"node10\" class=\"node\">\n<title>9</title>\n<polygon fill=\"#fef9f6\" stroke=\"#000000\" points=\"971.5,-306 855.5,-306 855.5,-223 971.5,-223 971.5,-306\"/>\n<text text-anchor=\"middle\" x=\"913.5\" y=\"-290.8\" font-family=\"Helvetica,sans-Serif\" font-size=\"14.00\" fill=\"#000000\">X[1] &lt;= 3.5</text>\n<text text-anchor=\"middle\" x=\"913.5\" y=\"-275.8\" font-family=\"Helvetica,sans-Serif\" font-size=\"14.00\" fill=\"#000000\">entropy = 1.0</text>\n<text text-anchor=\"middle\" x=\"913.5\" y=\"-260.8\" font-family=\"Helvetica,sans-Serif\" font-size=\"14.00\" fill=\"#000000\">samples = 86</text>\n<text text-anchor=\"middle\" x=\"913.5\" y=\"-245.8\" font-family=\"Helvetica,sans-Serif\" font-size=\"14.00\" fill=\"#000000\">value = [44, 42]</text>\n<text text-anchor=\"middle\" x=\"913.5\" y=\"-230.8\" font-family=\"Helvetica,sans-Serif\" font-size=\"14.00\" fill=\"#000000\">class = Age</text>\n</g>\n<!-- 1&#45;&gt;9 -->\n<g id=\"edge9\" class=\"edge\">\n<title>1&#45;&gt;9</title>\n<path fill=\"none\" stroke=\"#000000\" d=\"M913.5,-341.8796C913.5,-333.6838 913.5,-324.9891 913.5,-316.5013\"/>\n<polygon fill=\"#000000\" stroke=\"#000000\" points=\"917.0001,-316.298 913.5,-306.2981 910.0001,-316.2981 917.0001,-316.298\"/>\n</g>\n<!-- 3 -->\n<g id=\"node4\" class=\"node\">\n<title>3</title>\n<polygon fill=\"#3fa0e6\" stroke=\"#000000\" points=\"292,-187 155,-187 155,-104 292,-104 292,-187\"/>\n<text text-anchor=\"middle\" x=\"223.5\" y=\"-171.8\" font-family=\"Helvetica,sans-Serif\" font-size=\"14.00\" fill=\"#000000\">X[0] &lt;= 37.0</text>\n<text text-anchor=\"middle\" x=\"223.5\" y=\"-156.8\" font-family=\"Helvetica,sans-Serif\" font-size=\"14.00\" fill=\"#000000\">entropy = 0.181</text>\n<text text-anchor=\"middle\" x=\"223.5\" y=\"-141.8\" font-family=\"Helvetica,sans-Serif\" font-size=\"14.00\" fill=\"#000000\">samples = 73</text>\n<text text-anchor=\"middle\" x=\"223.5\" y=\"-126.8\" font-family=\"Helvetica,sans-Serif\" font-size=\"14.00\" fill=\"#000000\">value = [2, 71]</text>\n<text text-anchor=\"middle\" x=\"223.5\" y=\"-111.8\" font-family=\"Helvetica,sans-Serif\" font-size=\"14.00\" fill=\"#000000\">class = FamilySize</text>\n</g>\n<!-- 2&#45;&gt;3 -->\n<g id=\"edge3\" class=\"edge\">\n<title>2&#45;&gt;3</title>\n<path fill=\"none\" stroke=\"#000000\" d=\"M387.8525,-229.4397C360.5988,-215.5204 329.1162,-199.4413 301.0439,-185.104\"/>\n<polygon fill=\"#000000\" stroke=\"#000000\" points=\"302.5568,-181.9466 292.0591,-180.5152 299.3729,-188.1806 302.5568,-181.9466\"/>\n</g>\n<!-- 6 -->\n<g id=\"node7\" class=\"node\">\n<title>6</title>\n<polygon fill=\"#5dafea\" stroke=\"#000000\" points=\"525,-187 388,-187 388,-104 525,-104 525,-187\"/>\n<text text-anchor=\"middle\" x=\"456.5\" y=\"-171.8\" font-family=\"Helvetica,sans-Serif\" font-size=\"14.00\" fill=\"#000000\">X[2] &lt;= 1.5</text>\n<text text-anchor=\"middle\" x=\"456.5\" y=\"-156.8\" font-family=\"Helvetica,sans-Serif\" font-size=\"14.00\" fill=\"#000000\">entropy = 0.619</text>\n<text text-anchor=\"middle\" x=\"456.5\" y=\"-141.8\" font-family=\"Helvetica,sans-Serif\" font-size=\"14.00\" fill=\"#000000\">samples = 13</text>\n<text text-anchor=\"middle\" x=\"456.5\" y=\"-126.8\" font-family=\"Helvetica,sans-Serif\" font-size=\"14.00\" fill=\"#000000\">value = [2, 11]</text>\n<text text-anchor=\"middle\" x=\"456.5\" y=\"-111.8\" font-family=\"Helvetica,sans-Serif\" font-size=\"14.00\" fill=\"#000000\">class = FamilySize</text>\n</g>\n<!-- 2&#45;&gt;6 -->\n<g id=\"edge6\" class=\"edge\">\n<title>2&#45;&gt;6</title>\n<path fill=\"none\" stroke=\"#000000\" d=\"M456.5,-222.8796C456.5,-214.6838 456.5,-205.9891 456.5,-197.5013\"/>\n<polygon fill=\"#000000\" stroke=\"#000000\" points=\"460.0001,-197.298 456.5,-187.2981 453.0001,-197.2981 460.0001,-197.298\"/>\n</g>\n<!-- 4 -->\n<g id=\"node5\" class=\"node\">\n<title>4</title>\n<polygon fill=\"#399de5\" stroke=\"#000000\" points=\"137,-68 0,-68 0,0 137,0 137,-68\"/>\n<text text-anchor=\"middle\" x=\"68.5\" y=\"-52.8\" font-family=\"Helvetica,sans-Serif\" font-size=\"14.00\" fill=\"#000000\">entropy = 0.0</text>\n<text text-anchor=\"middle\" x=\"68.5\" y=\"-37.8\" font-family=\"Helvetica,sans-Serif\" font-size=\"14.00\" fill=\"#000000\">samples = 49</text>\n<text text-anchor=\"middle\" x=\"68.5\" y=\"-22.8\" font-family=\"Helvetica,sans-Serif\" font-size=\"14.00\" fill=\"#000000\">value = [0, 49]</text>\n<text text-anchor=\"middle\" x=\"68.5\" y=\"-7.8\" font-family=\"Helvetica,sans-Serif\" font-size=\"14.00\" fill=\"#000000\">class = FamilySize</text>\n</g>\n<!-- 3&#45;&gt;4 -->\n<g id=\"edge4\" class=\"edge\">\n<title>3&#45;&gt;4</title>\n<path fill=\"none\" stroke=\"#000000\" d=\"M165.7837,-103.9815C152.2409,-94.2394 137.8343,-83.8759 124.3737,-74.193\"/>\n<polygon fill=\"#000000\" stroke=\"#000000\" points=\"126.2928,-71.2621 116.1311,-68.2637 122.2051,-76.9446 126.2928,-71.2621\"/>\n</g>\n<!-- 5 -->\n<g id=\"node6\" class=\"node\">\n<title>5</title>\n<polygon fill=\"#4ba6e7\" stroke=\"#000000\" points=\"292,-68 155,-68 155,0 292,0 292,-68\"/>\n<text text-anchor=\"middle\" x=\"223.5\" y=\"-52.8\" font-family=\"Helvetica,sans-Serif\" font-size=\"14.00\" fill=\"#000000\">entropy = 0.414</text>\n<text text-anchor=\"middle\" x=\"223.5\" y=\"-37.8\" font-family=\"Helvetica,sans-Serif\" font-size=\"14.00\" fill=\"#000000\">samples = 24</text>\n<text text-anchor=\"middle\" x=\"223.5\" y=\"-22.8\" font-family=\"Helvetica,sans-Serif\" font-size=\"14.00\" fill=\"#000000\">value = [2, 22]</text>\n<text text-anchor=\"middle\" x=\"223.5\" y=\"-7.8\" font-family=\"Helvetica,sans-Serif\" font-size=\"14.00\" fill=\"#000000\">class = FamilySize</text>\n</g>\n<!-- 3&#45;&gt;5 -->\n<g id=\"edge5\" class=\"edge\">\n<title>3&#45;&gt;5</title>\n<path fill=\"none\" stroke=\"#000000\" d=\"M223.5,-103.9815C223.5,-95.618 223.5,-86.7965 223.5,-78.3409\"/>\n<polygon fill=\"#000000\" stroke=\"#000000\" points=\"227.0001,-78.2636 223.5,-68.2637 220.0001,-78.2637 227.0001,-78.2636\"/>\n</g>\n<!-- 7 -->\n<g id=\"node8\" class=\"node\">\n<title>7</title>\n<polygon fill=\"#bddef6\" stroke=\"#000000\" points=\"447,-68 310,-68 310,0 447,0 447,-68\"/>\n<text text-anchor=\"middle\" x=\"378.5\" y=\"-52.8\" font-family=\"Helvetica,sans-Serif\" font-size=\"14.00\" fill=\"#000000\">entropy = 0.971</text>\n<text text-anchor=\"middle\" x=\"378.5\" y=\"-37.8\" font-family=\"Helvetica,sans-Serif\" font-size=\"14.00\" fill=\"#000000\">samples = 5</text>\n<text text-anchor=\"middle\" x=\"378.5\" y=\"-22.8\" font-family=\"Helvetica,sans-Serif\" font-size=\"14.00\" fill=\"#000000\">value = [2, 3]</text>\n<text text-anchor=\"middle\" x=\"378.5\" y=\"-7.8\" font-family=\"Helvetica,sans-Serif\" font-size=\"14.00\" fill=\"#000000\">class = FamilySize</text>\n</g>\n<!-- 6&#45;&gt;7 -->\n<g id=\"edge7\" class=\"edge\">\n<title>6&#45;&gt;7</title>\n<path fill=\"none\" stroke=\"#000000\" d=\"M427.4557,-103.9815C421.2192,-95.0666 414.6187,-85.6313 408.3522,-76.6734\"/>\n<polygon fill=\"#000000\" stroke=\"#000000\" points=\"411.0693,-74.4515 402.4692,-68.2637 405.3335,-78.464 411.0693,-74.4515\"/>\n</g>\n<!-- 8 -->\n<g id=\"node9\" class=\"node\">\n<title>8</title>\n<polygon fill=\"#399de5\" stroke=\"#000000\" points=\"602,-68 465,-68 465,0 602,0 602,-68\"/>\n<text text-anchor=\"middle\" x=\"533.5\" y=\"-52.8\" font-family=\"Helvetica,sans-Serif\" font-size=\"14.00\" fill=\"#000000\">entropy = 0.0</text>\n<text text-anchor=\"middle\" x=\"533.5\" y=\"-37.8\" font-family=\"Helvetica,sans-Serif\" font-size=\"14.00\" fill=\"#000000\">samples = 8</text>\n<text text-anchor=\"middle\" x=\"533.5\" y=\"-22.8\" font-family=\"Helvetica,sans-Serif\" font-size=\"14.00\" fill=\"#000000\">value = [0, 8]</text>\n<text text-anchor=\"middle\" x=\"533.5\" y=\"-7.8\" font-family=\"Helvetica,sans-Serif\" font-size=\"14.00\" fill=\"#000000\">class = FamilySize</text>\n</g>\n<!-- 6&#45;&gt;8 -->\n<g id=\"edge8\" class=\"edge\">\n<title>6&#45;&gt;8</title>\n<path fill=\"none\" stroke=\"#000000\" d=\"M485.172,-103.9815C491.3285,-95.0666 497.8443,-85.6313 504.0305,-76.6734\"/>\n<polygon fill=\"#000000\" stroke=\"#000000\" points=\"507.0355,-78.4811 509.8381,-68.2637 501.2755,-74.5034 507.0355,-78.4811\"/>\n</g>\n<!-- 10 -->\n<g id=\"node11\" class=\"node\">\n<title>10</title>\n<polygon fill=\"#bbdef6\" stroke=\"#000000\" points=\"911,-187 774,-187 774,-104 911,-104 911,-187\"/>\n<text text-anchor=\"middle\" x=\"842.5\" y=\"-171.8\" font-family=\"Helvetica,sans-Serif\" font-size=\"14.00\" fill=\"#000000\">X[0] &lt;= 7.0</text>\n<text text-anchor=\"middle\" x=\"842.5\" y=\"-156.8\" font-family=\"Helvetica,sans-Serif\" font-size=\"14.00\" fill=\"#000000\">entropy = 0.969</text>\n<text text-anchor=\"middle\" x=\"842.5\" y=\"-141.8\" font-family=\"Helvetica,sans-Serif\" font-size=\"14.00\" fill=\"#000000\">samples = 68</text>\n<text text-anchor=\"middle\" x=\"842.5\" y=\"-126.8\" font-family=\"Helvetica,sans-Serif\" font-size=\"14.00\" fill=\"#000000\">value = [27, 41]</text>\n<text text-anchor=\"middle\" x=\"842.5\" y=\"-111.8\" font-family=\"Helvetica,sans-Serif\" font-size=\"14.00\" fill=\"#000000\">class = FamilySize</text>\n</g>\n<!-- 9&#45;&gt;10 -->\n<g id=\"edge10\" class=\"edge\">\n<title>9&#45;&gt;10</title>\n<path fill=\"none\" stroke=\"#000000\" d=\"M888.6676,-222.8796C883.5091,-214.2335 878.0192,-205.0322 872.6924,-196.1042\"/>\n<polygon fill=\"#000000\" stroke=\"#000000\" points=\"875.5678,-194.0924 867.4383,-187.2981 869.5564,-197.679 875.5678,-194.0924\"/>\n</g>\n<!-- 13 -->\n<g id=\"node14\" class=\"node\">\n<title>13</title>\n<polygon fill=\"#e78845\" stroke=\"#000000\" points=\"1039.5,-187 929.5,-187 929.5,-104 1039.5,-104 1039.5,-187\"/>\n<text text-anchor=\"middle\" x=\"984.5\" y=\"-171.8\" font-family=\"Helvetica,sans-Serif\" font-size=\"14.00\" fill=\"#000000\">X[4] &lt;= 3.5</text>\n<text text-anchor=\"middle\" x=\"984.5\" y=\"-156.8\" font-family=\"Helvetica,sans-Serif\" font-size=\"14.00\" fill=\"#000000\">entropy = 0.31</text>\n<text text-anchor=\"middle\" x=\"984.5\" y=\"-141.8\" font-family=\"Helvetica,sans-Serif\" font-size=\"14.00\" fill=\"#000000\">samples = 18</text>\n<text text-anchor=\"middle\" x=\"984.5\" y=\"-126.8\" font-family=\"Helvetica,sans-Serif\" font-size=\"14.00\" fill=\"#000000\">value = [17, 1]</text>\n<text text-anchor=\"middle\" x=\"984.5\" y=\"-111.8\" font-family=\"Helvetica,sans-Serif\" font-size=\"14.00\" fill=\"#000000\">class = Age</text>\n</g>\n<!-- 9&#45;&gt;13 -->\n<g id=\"edge13\" class=\"edge\">\n<title>9&#45;&gt;13</title>\n<path fill=\"none\" stroke=\"#000000\" d=\"M938.3324,-222.8796C943.4909,-214.2335 948.9808,-205.0322 954.3076,-196.1042\"/>\n<polygon fill=\"#000000\" stroke=\"#000000\" points=\"957.4436,-197.679 959.5617,-187.2981 951.4322,-194.0924 957.4436,-197.679\"/>\n</g>\n<!-- 11 -->\n<g id=\"node12\" class=\"node\">\n<title>11</title>\n<polygon fill=\"#399de5\" stroke=\"#000000\" points=\"757,-68 620,-68 620,0 757,0 757,-68\"/>\n<text text-anchor=\"middle\" x=\"688.5\" y=\"-52.8\" font-family=\"Helvetica,sans-Serif\" font-size=\"14.00\" fill=\"#000000\">entropy = 0.0</text>\n<text text-anchor=\"middle\" x=\"688.5\" y=\"-37.8\" font-family=\"Helvetica,sans-Serif\" font-size=\"14.00\" fill=\"#000000\">samples = 5</text>\n<text text-anchor=\"middle\" x=\"688.5\" y=\"-22.8\" font-family=\"Helvetica,sans-Serif\" font-size=\"14.00\" fill=\"#000000\">value = [0, 5]</text>\n<text text-anchor=\"middle\" x=\"688.5\" y=\"-7.8\" font-family=\"Helvetica,sans-Serif\" font-size=\"14.00\" fill=\"#000000\">class = FamilySize</text>\n</g>\n<!-- 10&#45;&gt;11 -->\n<g id=\"edge11\" class=\"edge\">\n<title>10&#45;&gt;11</title>\n<path fill=\"none\" stroke=\"#000000\" d=\"M785.1561,-103.9815C771.7006,-94.2394 757.3869,-83.8759 744.0133,-74.193\"/>\n<polygon fill=\"#000000\" stroke=\"#000000\" points=\"745.9763,-71.2933 735.8238,-68.2637 741.8711,-76.9632 745.9763,-71.2933\"/>\n</g>\n<!-- 12 -->\n<g id=\"node13\" class=\"node\">\n<title>12</title>\n<polygon fill=\"#cee6f8\" stroke=\"#000000\" points=\"912,-68 775,-68 775,0 912,0 912,-68\"/>\n<text text-anchor=\"middle\" x=\"843.5\" y=\"-52.8\" font-family=\"Helvetica,sans-Serif\" font-size=\"14.00\" fill=\"#000000\">entropy = 0.985</text>\n<text text-anchor=\"middle\" x=\"843.5\" y=\"-37.8\" font-family=\"Helvetica,sans-Serif\" font-size=\"14.00\" fill=\"#000000\">samples = 63</text>\n<text text-anchor=\"middle\" x=\"843.5\" y=\"-22.8\" font-family=\"Helvetica,sans-Serif\" font-size=\"14.00\" fill=\"#000000\">value = [27, 36]</text>\n<text text-anchor=\"middle\" x=\"843.5\" y=\"-7.8\" font-family=\"Helvetica,sans-Serif\" font-size=\"14.00\" fill=\"#000000\">class = FamilySize</text>\n</g>\n<!-- 10&#45;&gt;12 -->\n<g id=\"edge12\" class=\"edge\">\n<title>10&#45;&gt;12</title>\n<path fill=\"none\" stroke=\"#000000\" d=\"M842.8724,-103.9815C842.9474,-95.618 843.0265,-86.7965 843.1023,-78.3409\"/>\n<polygon fill=\"#000000\" stroke=\"#000000\" points=\"846.6028,-78.2947 843.1927,-68.2637 839.6031,-78.2318 846.6028,-78.2947\"/>\n</g>\n<!-- 14 -->\n<g id=\"node15\" class=\"node\">\n<title>14</title>\n<polygon fill=\"#e58139\" stroke=\"#000000\" points=\"1037,-68 930,-68 930,0 1037,0 1037,-68\"/>\n<text text-anchor=\"middle\" x=\"983.5\" y=\"-52.8\" font-family=\"Helvetica,sans-Serif\" font-size=\"14.00\" fill=\"#000000\">entropy = 0.0</text>\n<text text-anchor=\"middle\" x=\"983.5\" y=\"-37.8\" font-family=\"Helvetica,sans-Serif\" font-size=\"14.00\" fill=\"#000000\">samples = 10</text>\n<text text-anchor=\"middle\" x=\"983.5\" y=\"-22.8\" font-family=\"Helvetica,sans-Serif\" font-size=\"14.00\" fill=\"#000000\">value = [10, 0]</text>\n<text text-anchor=\"middle\" x=\"983.5\" y=\"-7.8\" font-family=\"Helvetica,sans-Serif\" font-size=\"14.00\" fill=\"#000000\">class = Age</text>\n</g>\n<!-- 13&#45;&gt;14 -->\n<g id=\"edge14\" class=\"edge\">\n<title>13&#45;&gt;14</title>\n<path fill=\"none\" stroke=\"#000000\" d=\"M984.1276,-103.9815C984.0526,-95.618 983.9735,-86.7965 983.8977,-78.3409\"/>\n<polygon fill=\"#000000\" stroke=\"#000000\" points=\"987.3969,-78.2318 983.8073,-68.2637 980.3972,-78.2947 987.3969,-78.2318\"/>\n</g>\n<!-- 15 -->\n<g id=\"node16\" class=\"node\">\n<title>15</title>\n<polygon fill=\"#e99355\" stroke=\"#000000\" points=\"1173.5,-68 1055.5,-68 1055.5,0 1173.5,0 1173.5,-68\"/>\n<text text-anchor=\"middle\" x=\"1114.5\" y=\"-52.8\" font-family=\"Helvetica,sans-Serif\" font-size=\"14.00\" fill=\"#000000\">entropy = 0.544</text>\n<text text-anchor=\"middle\" x=\"1114.5\" y=\"-37.8\" font-family=\"Helvetica,sans-Serif\" font-size=\"14.00\" fill=\"#000000\">samples = 8</text>\n<text text-anchor=\"middle\" x=\"1114.5\" y=\"-22.8\" font-family=\"Helvetica,sans-Serif\" font-size=\"14.00\" fill=\"#000000\">value = [7, 1]</text>\n<text text-anchor=\"middle\" x=\"1114.5\" y=\"-7.8\" font-family=\"Helvetica,sans-Serif\" font-size=\"14.00\" fill=\"#000000\">class = Age</text>\n</g>\n<!-- 13&#45;&gt;15 -->\n<g id=\"edge15\" class=\"edge\">\n<title>13&#45;&gt;15</title>\n<path fill=\"none\" stroke=\"#000000\" d=\"M1032.9072,-103.9815C1043.9442,-94.5151 1055.6653,-84.462 1066.6777,-75.0168\"/>\n<polygon fill=\"#000000\" stroke=\"#000000\" points=\"1069.2394,-77.4307 1074.5513,-68.2637 1064.6822,-72.1173 1069.2394,-77.4307\"/>\n</g>\n<!-- 17 -->\n<g id=\"node18\" class=\"node\">\n<title>17</title>\n<polygon fill=\"#f7d7c0\" stroke=\"#000000\" points=\"1315.5,-306 1197.5,-306 1197.5,-223 1315.5,-223 1315.5,-306\"/>\n<text text-anchor=\"middle\" x=\"1256.5\" y=\"-290.8\" font-family=\"Helvetica,sans-Serif\" font-size=\"14.00\" fill=\"#000000\">X[0] &lt;= 18.0</text>\n<text text-anchor=\"middle\" x=\"1256.5\" y=\"-275.8\" font-family=\"Helvetica,sans-Serif\" font-size=\"14.00\" fill=\"#000000\">entropy = 0.974</text>\n<text text-anchor=\"middle\" x=\"1256.5\" y=\"-260.8\" font-family=\"Helvetica,sans-Serif\" font-size=\"14.00\" fill=\"#000000\">samples = 84</text>\n<text text-anchor=\"middle\" x=\"1256.5\" y=\"-245.8\" font-family=\"Helvetica,sans-Serif\" font-size=\"14.00\" fill=\"#000000\">value = [50, 34]</text>\n<text text-anchor=\"middle\" x=\"1256.5\" y=\"-230.8\" font-family=\"Helvetica,sans-Serif\" font-size=\"14.00\" fill=\"#000000\">class = Age</text>\n</g>\n<!-- 16&#45;&gt;17 -->\n<g id=\"edge17\" class=\"edge\">\n<title>16&#45;&gt;17</title>\n<path fill=\"none\" stroke=\"#000000\" d=\"M1256.5,-341.8796C1256.5,-333.6838 1256.5,-324.9891 1256.5,-316.5013\"/>\n<polygon fill=\"#000000\" stroke=\"#000000\" points=\"1260.0001,-316.298 1256.5,-306.2981 1253.0001,-316.2981 1260.0001,-316.298\"/>\n</g>\n<!-- 22 -->\n<g id=\"node23\" class=\"node\">\n<title>22</title>\n<polygon fill=\"#e99559\" stroke=\"#000000\" points=\"1662.5,-306 1538.5,-306 1538.5,-223 1662.5,-223 1662.5,-306\"/>\n<text text-anchor=\"middle\" x=\"1600.5\" y=\"-290.8\" font-family=\"Helvetica,sans-Serif\" font-size=\"14.00\" fill=\"#000000\">X[0] &lt;= 9.5</text>\n<text text-anchor=\"middle\" x=\"1600.5\" y=\"-275.8\" font-family=\"Helvetica,sans-Serif\" font-size=\"14.00\" fill=\"#000000\">entropy = 0.583</text>\n<text text-anchor=\"middle\" x=\"1600.5\" y=\"-260.8\" font-family=\"Helvetica,sans-Serif\" font-size=\"14.00\" fill=\"#000000\">samples = 287</text>\n<text text-anchor=\"middle\" x=\"1600.5\" y=\"-245.8\" font-family=\"Helvetica,sans-Serif\" font-size=\"14.00\" fill=\"#000000\">value = [247, 40]</text>\n<text text-anchor=\"middle\" x=\"1600.5\" y=\"-230.8\" font-family=\"Helvetica,sans-Serif\" font-size=\"14.00\" fill=\"#000000\">class = Age</text>\n</g>\n<!-- 16&#45;&gt;22 -->\n<g id=\"edge22\" class=\"edge\">\n<title>16&#45;&gt;22</title>\n<path fill=\"none\" stroke=\"#000000\" d=\"M1318.7958,-361.95C1377.8823,-341.5102 1466.6128,-310.8156 1528.6577,-289.3524\"/>\n<polygon fill=\"#000000\" stroke=\"#000000\" points=\"1530.0715,-292.5669 1538.3777,-285.99 1527.783,-285.9516 1530.0715,-292.5669\"/>\n</g>\n<!-- 18 -->\n<g id=\"node19\" class=\"node\">\n<title>18</title>\n<polygon fill=\"#399de5\" stroke=\"#000000\" points=\"1252,-179.5 1115,-179.5 1115,-111.5 1252,-111.5 1252,-179.5\"/>\n<text text-anchor=\"middle\" x=\"1183.5\" y=\"-164.3\" font-family=\"Helvetica,sans-Serif\" font-size=\"14.00\" fill=\"#000000\">entropy = 0.0</text>\n<text text-anchor=\"middle\" x=\"1183.5\" y=\"-149.3\" font-family=\"Helvetica,sans-Serif\" font-size=\"14.00\" fill=\"#000000\">samples = 4</text>\n<text text-anchor=\"middle\" x=\"1183.5\" y=\"-134.3\" font-family=\"Helvetica,sans-Serif\" font-size=\"14.00\" fill=\"#000000\">value = [0, 4]</text>\n<text text-anchor=\"middle\" x=\"1183.5\" y=\"-119.3\" font-family=\"Helvetica,sans-Serif\" font-size=\"14.00\" fill=\"#000000\">class = FamilySize</text>\n</g>\n<!-- 17&#45;&gt;18 -->\n<g id=\"edge18\" class=\"edge\">\n<title>17&#45;&gt;18</title>\n<path fill=\"none\" stroke=\"#000000\" d=\"M1230.9681,-222.8796C1224.1552,-211.7735 1216.7802,-199.7513 1209.9206,-188.5691\"/>\n<polygon fill=\"#000000\" stroke=\"#000000\" points=\"1212.7628,-186.5087 1204.5503,-179.8149 1206.796,-190.1691 1212.7628,-186.5087\"/>\n</g>\n<!-- 19 -->\n<g id=\"node20\" class=\"node\">\n<title>19</title>\n<polygon fill=\"#f5cdb0\" stroke=\"#000000\" points=\"1388.5,-187 1270.5,-187 1270.5,-104 1388.5,-104 1388.5,-187\"/>\n<text text-anchor=\"middle\" x=\"1329.5\" y=\"-171.8\" font-family=\"Helvetica,sans-Serif\" font-size=\"14.00\" fill=\"#000000\">X[0] &lt;= 51.0</text>\n<text text-anchor=\"middle\" x=\"1329.5\" y=\"-156.8\" font-family=\"Helvetica,sans-Serif\" font-size=\"14.00\" fill=\"#000000\">entropy = 0.954</text>\n<text text-anchor=\"middle\" x=\"1329.5\" y=\"-141.8\" font-family=\"Helvetica,sans-Serif\" font-size=\"14.00\" fill=\"#000000\">samples = 80</text>\n<text text-anchor=\"middle\" x=\"1329.5\" y=\"-126.8\" font-family=\"Helvetica,sans-Serif\" font-size=\"14.00\" fill=\"#000000\">value = [50, 30]</text>\n<text text-anchor=\"middle\" x=\"1329.5\" y=\"-111.8\" font-family=\"Helvetica,sans-Serif\" font-size=\"14.00\" fill=\"#000000\">class = Age</text>\n</g>\n<!-- 17&#45;&gt;19 -->\n<g id=\"edge19\" class=\"edge\">\n<title>17&#45;&gt;19</title>\n<path fill=\"none\" stroke=\"#000000\" d=\"M1282.0319,-222.8796C1287.391,-214.1434 1293.0979,-204.8404 1298.6282,-195.8253\"/>\n<polygon fill=\"#000000\" stroke=\"#000000\" points=\"1301.6135,-197.6522 1303.8592,-187.2981 1295.6467,-193.9919 1301.6135,-197.6522\"/>\n</g>\n<!-- 20 -->\n<g id=\"node21\" class=\"node\">\n<title>20</title>\n<polygon fill=\"#f8ddc9\" stroke=\"#000000\" points=\"1309.5,-68 1191.5,-68 1191.5,0 1309.5,0 1309.5,-68\"/>\n<text text-anchor=\"middle\" x=\"1250.5\" y=\"-52.8\" font-family=\"Helvetica,sans-Serif\" font-size=\"14.00\" fill=\"#000000\">entropy = 0.982</text>\n<text text-anchor=\"middle\" x=\"1250.5\" y=\"-37.8\" font-family=\"Helvetica,sans-Serif\" font-size=\"14.00\" fill=\"#000000\">samples = 64</text>\n<text text-anchor=\"middle\" x=\"1250.5\" y=\"-22.8\" font-family=\"Helvetica,sans-Serif\" font-size=\"14.00\" fill=\"#000000\">value = [37, 27]</text>\n<text text-anchor=\"middle\" x=\"1250.5\" y=\"-7.8\" font-family=\"Helvetica,sans-Serif\" font-size=\"14.00\" fill=\"#000000\">class = Age</text>\n</g>\n<!-- 19&#45;&gt;20 -->\n<g id=\"edge20\" class=\"edge\">\n<title>19&#45;&gt;20</title>\n<path fill=\"none\" stroke=\"#000000\" d=\"M1300.0833,-103.9815C1293.7669,-95.0666 1287.0818,-85.6313 1280.7349,-76.6734\"/>\n<polygon fill=\"#000000\" stroke=\"#000000\" points=\"1283.4136,-74.3998 1274.7765,-68.2637 1277.7019,-78.4466 1283.4136,-74.3998\"/>\n</g>\n<!-- 21 -->\n<g id=\"node22\" class=\"node\">\n<title>21</title>\n<polygon fill=\"#eb9e67\" stroke=\"#000000\" points=\"1445.5,-68 1327.5,-68 1327.5,0 1445.5,0 1445.5,-68\"/>\n<text text-anchor=\"middle\" x=\"1386.5\" y=\"-52.8\" font-family=\"Helvetica,sans-Serif\" font-size=\"14.00\" fill=\"#000000\">entropy = 0.696</text>\n<text text-anchor=\"middle\" x=\"1386.5\" y=\"-37.8\" font-family=\"Helvetica,sans-Serif\" font-size=\"14.00\" fill=\"#000000\">samples = 16</text>\n<text text-anchor=\"middle\" x=\"1386.5\" y=\"-22.8\" font-family=\"Helvetica,sans-Serif\" font-size=\"14.00\" fill=\"#000000\">value = [13, 3]</text>\n<text text-anchor=\"middle\" x=\"1386.5\" y=\"-7.8\" font-family=\"Helvetica,sans-Serif\" font-size=\"14.00\" fill=\"#000000\">class = Age</text>\n</g>\n<!-- 19&#45;&gt;21 -->\n<g id=\"edge21\" class=\"edge\">\n<title>19&#45;&gt;21</title>\n<path fill=\"none\" stroke=\"#000000\" d=\"M1350.7247,-103.9815C1355.1881,-95.2504 1359.9067,-86.0202 1364.4013,-77.2281\"/>\n<polygon fill=\"#000000\" stroke=\"#000000\" points=\"1367.5486,-78.7608 1368.984,-68.2637 1361.3158,-75.5745 1367.5486,-78.7608\"/>\n</g>\n<!-- 23 -->\n<g id=\"node24\" class=\"node\">\n<title>23</title>\n<polygon fill=\"#dbedfa\" stroke=\"#000000\" points=\"1669,-187 1532,-187 1532,-104 1669,-104 1669,-187\"/>\n<text text-anchor=\"middle\" x=\"1600.5\" y=\"-171.8\" font-family=\"Helvetica,sans-Serif\" font-size=\"14.00\" fill=\"#000000\">X[4] &lt;= 3.0</text>\n<text text-anchor=\"middle\" x=\"1600.5\" y=\"-156.8\" font-family=\"Helvetica,sans-Serif\" font-size=\"14.00\" fill=\"#000000\">entropy = 0.993</text>\n<text text-anchor=\"middle\" x=\"1600.5\" y=\"-141.8\" font-family=\"Helvetica,sans-Serif\" font-size=\"14.00\" fill=\"#000000\">samples = 20</text>\n<text text-anchor=\"middle\" x=\"1600.5\" y=\"-126.8\" font-family=\"Helvetica,sans-Serif\" font-size=\"14.00\" fill=\"#000000\">value = [9, 11]</text>\n<text text-anchor=\"middle\" x=\"1600.5\" y=\"-111.8\" font-family=\"Helvetica,sans-Serif\" font-size=\"14.00\" fill=\"#000000\">class = FamilySize</text>\n</g>\n<!-- 22&#45;&gt;23 -->\n<g id=\"edge23\" class=\"edge\">\n<title>22&#45;&gt;23</title>\n<path fill=\"none\" stroke=\"#000000\" d=\"M1600.5,-222.8796C1600.5,-214.6838 1600.5,-205.9891 1600.5,-197.5013\"/>\n<polygon fill=\"#000000\" stroke=\"#000000\" points=\"1604.0001,-197.298 1600.5,-187.2981 1597.0001,-197.2981 1604.0001,-197.298\"/>\n</g>\n<!-- 26 -->\n<g id=\"node27\" class=\"node\">\n<title>26</title>\n<polygon fill=\"#e89051\" stroke=\"#000000\" points=\"1879.5,-187 1755.5,-187 1755.5,-104 1879.5,-104 1879.5,-187\"/>\n<text text-anchor=\"middle\" x=\"1817.5\" y=\"-171.8\" font-family=\"Helvetica,sans-Serif\" font-size=\"14.00\" fill=\"#000000\">X[0] &lt;= 34.25</text>\n<text text-anchor=\"middle\" x=\"1817.5\" y=\"-156.8\" font-family=\"Helvetica,sans-Serif\" font-size=\"14.00\" fill=\"#000000\">entropy = 0.496</text>\n<text text-anchor=\"middle\" x=\"1817.5\" y=\"-141.8\" font-family=\"Helvetica,sans-Serif\" font-size=\"14.00\" fill=\"#000000\">samples = 267</text>\n<text text-anchor=\"middle\" x=\"1817.5\" y=\"-126.8\" font-family=\"Helvetica,sans-Serif\" font-size=\"14.00\" fill=\"#000000\">value = [238, 29]</text>\n<text text-anchor=\"middle\" x=\"1817.5\" y=\"-111.8\" font-family=\"Helvetica,sans-Serif\" font-size=\"14.00\" fill=\"#000000\">class = Age</text>\n</g>\n<!-- 22&#45;&gt;26 -->\n<g id=\"edge26\" class=\"edge\">\n<title>22&#45;&gt;26</title>\n<path fill=\"none\" stroke=\"#000000\" d=\"M1662.6835,-230.3994C1688.7883,-216.0838 1719.2967,-199.3534 1746.2968,-184.5469\"/>\n<polygon fill=\"#000000\" stroke=\"#000000\" points=\"1748.2222,-187.4828 1755.3074,-179.6056 1744.8564,-181.3451 1748.2222,-187.4828\"/>\n</g>\n<!-- 24 -->\n<g id=\"node25\" class=\"node\">\n<title>24</title>\n<polygon fill=\"#399de5\" stroke=\"#000000\" points=\"1601,-68 1464,-68 1464,0 1601,0 1601,-68\"/>\n<text text-anchor=\"middle\" x=\"1532.5\" y=\"-52.8\" font-family=\"Helvetica,sans-Serif\" font-size=\"14.00\" fill=\"#000000\">entropy = 0.0</text>\n<text text-anchor=\"middle\" x=\"1532.5\" y=\"-37.8\" font-family=\"Helvetica,sans-Serif\" font-size=\"14.00\" fill=\"#000000\">samples = 10</text>\n<text text-anchor=\"middle\" x=\"1532.5\" y=\"-22.8\" font-family=\"Helvetica,sans-Serif\" font-size=\"14.00\" fill=\"#000000\">value = [0, 10]</text>\n<text text-anchor=\"middle\" x=\"1532.5\" y=\"-7.8\" font-family=\"Helvetica,sans-Serif\" font-size=\"14.00\" fill=\"#000000\">class = FamilySize</text>\n</g>\n<!-- 23&#45;&gt;24 -->\n<g id=\"edge24\" class=\"edge\">\n<title>23&#45;&gt;24</title>\n<path fill=\"none\" stroke=\"#000000\" d=\"M1575.1793,-103.9815C1569.7984,-95.1585 1564.1068,-85.8258 1558.6941,-76.9506\"/>\n<polygon fill=\"#000000\" stroke=\"#000000\" points=\"1561.5912,-74.9789 1553.3962,-68.2637 1555.6149,-78.6236 1561.5912,-74.9789\"/>\n</g>\n<!-- 25 -->\n<g id=\"node26\" class=\"node\">\n<title>25</title>\n<polygon fill=\"#e88f4f\" stroke=\"#000000\" points=\"1737.5,-68 1619.5,-68 1619.5,0 1737.5,0 1737.5,-68\"/>\n<text text-anchor=\"middle\" x=\"1678.5\" y=\"-52.8\" font-family=\"Helvetica,sans-Serif\" font-size=\"14.00\" fill=\"#000000\">entropy = 0.469</text>\n<text text-anchor=\"middle\" x=\"1678.5\" y=\"-37.8\" font-family=\"Helvetica,sans-Serif\" font-size=\"14.00\" fill=\"#000000\">samples = 10</text>\n<text text-anchor=\"middle\" x=\"1678.5\" y=\"-22.8\" font-family=\"Helvetica,sans-Serif\" font-size=\"14.00\" fill=\"#000000\">value = [9, 1]</text>\n<text text-anchor=\"middle\" x=\"1678.5\" y=\"-7.8\" font-family=\"Helvetica,sans-Serif\" font-size=\"14.00\" fill=\"#000000\">class = Age</text>\n</g>\n<!-- 23&#45;&gt;25 -->\n<g id=\"edge25\" class=\"edge\">\n<title>23&#45;&gt;25</title>\n<path fill=\"none\" stroke=\"#000000\" d=\"M1629.5443,-103.9815C1635.7808,-95.0666 1642.3813,-85.6313 1648.6478,-76.6734\"/>\n<polygon fill=\"#000000\" stroke=\"#000000\" points=\"1651.6665,-78.464 1654.5308,-68.2637 1645.9307,-74.4515 1651.6665,-78.464\"/>\n</g>\n<!-- 27 -->\n<g id=\"node28\" class=\"node\">\n<title>27</title>\n<polygon fill=\"#e99457\" stroke=\"#000000\" points=\"1879.5,-68 1755.5,-68 1755.5,0 1879.5,0 1879.5,-68\"/>\n<text text-anchor=\"middle\" x=\"1817.5\" y=\"-52.8\" font-family=\"Helvetica,sans-Serif\" font-size=\"14.00\" fill=\"#000000\">entropy = 0.561</text>\n<text text-anchor=\"middle\" x=\"1817.5\" y=\"-37.8\" font-family=\"Helvetica,sans-Serif\" font-size=\"14.00\" fill=\"#000000\">samples = 213</text>\n<text text-anchor=\"middle\" x=\"1817.5\" y=\"-22.8\" font-family=\"Helvetica,sans-Serif\" font-size=\"14.00\" fill=\"#000000\">value = [185, 28]</text>\n<text text-anchor=\"middle\" x=\"1817.5\" y=\"-7.8\" font-family=\"Helvetica,sans-Serif\" font-size=\"14.00\" fill=\"#000000\">class = Age</text>\n</g>\n<!-- 26&#45;&gt;27 -->\n<g id=\"edge27\" class=\"edge\">\n<title>26&#45;&gt;27</title>\n<path fill=\"none\" stroke=\"#000000\" d=\"M1817.5,-103.9815C1817.5,-95.618 1817.5,-86.7965 1817.5,-78.3409\"/>\n<polygon fill=\"#000000\" stroke=\"#000000\" points=\"1821.0001,-78.2636 1817.5,-68.2637 1814.0001,-78.2637 1821.0001,-78.2636\"/>\n</g>\n<!-- 28 -->\n<g id=\"node29\" class=\"node\">\n<title>28</title>\n<polygon fill=\"#e5833d\" stroke=\"#000000\" points=\"2015.5,-68 1897.5,-68 1897.5,0 2015.5,0 2015.5,-68\"/>\n<text text-anchor=\"middle\" x=\"1956.5\" y=\"-52.8\" font-family=\"Helvetica,sans-Serif\" font-size=\"14.00\" fill=\"#000000\">entropy = 0.133</text>\n<text text-anchor=\"middle\" x=\"1956.5\" y=\"-37.8\" font-family=\"Helvetica,sans-Serif\" font-size=\"14.00\" fill=\"#000000\">samples = 54</text>\n<text text-anchor=\"middle\" x=\"1956.5\" y=\"-22.8\" font-family=\"Helvetica,sans-Serif\" font-size=\"14.00\" fill=\"#000000\">value = [53, 1]</text>\n<text text-anchor=\"middle\" x=\"1956.5\" y=\"-7.8\" font-family=\"Helvetica,sans-Serif\" font-size=\"14.00\" fill=\"#000000\">class = Age</text>\n</g>\n<!-- 26&#45;&gt;28 -->\n<g id=\"edge28\" class=\"edge\">\n<title>26&#45;&gt;28</title>\n<path fill=\"none\" stroke=\"#000000\" d=\"M1869.2585,-103.9815C1881.1742,-94.4232 1893.8356,-84.2668 1905.7097,-74.7419\"/>\n<polygon fill=\"#000000\" stroke=\"#000000\" points=\"1908.1752,-77.2511 1913.7856,-68.2637 1903.7951,-71.7907 1908.1752,-77.2511\"/>\n</g>\n</g>\n</svg>\n"
          },
          "metadata": {},
          "execution_count": 36
        }
      ]
    },
    {
      "cell_type": "markdown",
      "source": [
        "On peut dire que la precision de notre modele est depend des parametres de ce dernier ."
      ],
      "metadata": {
        "id": "2ifOa0f5UyTN"
      }
    },
    {
      "cell_type": "code",
      "source": [
        "X_test.iloc[2]"
      ],
      "metadata": {
        "id": "awP7NFnkKa07",
        "colab": {
          "base_uri": "https://localhost:8080/"
        },
        "outputId": "c7cd6fff-479b-4714-a31d-693017446850"
      },
      "execution_count": null,
      "outputs": [
        {
          "output_type": "execute_result",
          "data": {
            "text/plain": [
              "Age           29.699118\n",
              "FamilySize     0.000000\n",
              "Pclass         3.000000\n",
              "Sex            1.000000\n",
              "SibSp          0.000000\n",
              "Name: 760, dtype: float64"
            ]
          },
          "metadata": {},
          "execution_count": 23
        }
      ]
    },
    {
      "cell_type": "markdown",
      "source": [
        "# Exemple de prediction manuelle \n",
        "Si on prend l'exemple de '' X_test.iloc[2] '' : \n",
        "\n",
        "* 1er condition est fausse car sex n'est pas inferieur au egale a 0.5 doc on doit choisit le chemain a droite \n",
        "\n",
        "* 2em condition pclass aussi n'est pas inferieur au egale a 1.5 donc on doit choisit le chemain a droite aussi \n",
        "\n",
        "* 3em condition la meme chose , l'age egale a 29.699 donc on doit choisit le chemain a droite \n",
        "\n",
        "* 4em edition et la derniere , notre age est inferieur a 34 donc notre prediction est 0 car la majorité \"185\" sons predictions est 0  ."
      ],
      "metadata": {
        "id": "_RsgcxTL-XFQ"
      }
    },
    {
      "cell_type": "code",
      "source": [
        "Y_test.iloc[2]"
      ],
      "metadata": {
        "colab": {
          "base_uri": "https://localhost:8080/"
        },
        "id": "lVdr9Afc-ILT",
        "outputId": "4bf1b65d-2cb3-42f5-b71b-ba48a11e2bb7"
      },
      "execution_count": 35,
      "outputs": [
        {
          "output_type": "execute_result",
          "data": {
            "text/plain": [
              "0"
            ]
          },
          "metadata": {},
          "execution_count": 35
        }
      ]
    },
    {
      "cell_type": "code",
      "source": [
        "X_train, X_test, y_train, y_test = train_test_split(X, Y, test_size = 0.25, random_state = 0)\n",
        "RF = RandomForestClassifier()\n",
        "RF.fit(X_train, y_train)\n",
        "y_pred = RF.predict(X_test)\n",
        "print( \"Random forest : \" + str(np.round(metrics.accuracy_score(Y_test,Y_pred),3)))\n"
      ],
      "metadata": {
        "colab": {
          "base_uri": "https://localhost:8080/"
        },
        "id": "fcPuFGxnTgRU",
        "outputId": "e0ba7dc8-c97e-4ba0-8491-c46808a13390"
      },
      "execution_count": 37,
      "outputs": [
        {
          "output_type": "stream",
          "name": "stdout",
          "text": [
            "Random forest : 0.828\n"
          ]
        }
      ]
    },
    {
      "cell_type": "code",
      "source": [
        "RF = RandomForestClassifier(n_estimators = 100)\n",
        "RF.fit(X_train, y_train)\n",
        "y_pred = RF.predict(X_test)\n",
        "print(\"Accuracy : {}\".format(round(metrics.accuracy_score(y_test, y_pred), 3)))"
      ],
      "metadata": {
        "colab": {
          "base_uri": "https://localhost:8080/"
        },
        "id": "0ma5pJ21W7dP",
        "outputId": "60ceb4a4-ce55-4761-c7aa-ddc0e3ab8f3d"
      },
      "execution_count": 38,
      "outputs": [
        {
          "output_type": "stream",
          "name": "stdout",
          "text": [
            "Accuracy : 0.852\n"
          ]
        }
      ]
    },
    {
      "cell_type": "markdown",
      "source": [
        "Lorsque on augmente le nombre des estimateurs , la precesion augmente aussi "
      ],
      "metadata": {
        "id": "E7_Ks0TjX03O"
      }
    },
    {
      "cell_type": "code",
      "source": [],
      "metadata": {
        "id": "rqPdG4V5XzVm"
      },
      "execution_count": null,
      "outputs": []
    }
  ]
}