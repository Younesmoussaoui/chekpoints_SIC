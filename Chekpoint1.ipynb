{
  "nbformat": 4,
  "nbformat_minor": 0,
  "metadata": {
    "colab": {
      "name": "Chekpoint1.ipynb",
      "provenance": [],
      "authorship_tag": "ABX9TyOqouzdD7oYav5X+AuNtPD7",
      "include_colab_link": true
    },
    "kernelspec": {
      "name": "python3",
      "display_name": "Python 3"
    },
    "language_info": {
      "name": "python"
    }
  },
  "cells": [
    {
      "cell_type": "markdown",
      "metadata": {
        "id": "view-in-github",
        "colab_type": "text"
      },
      "source": [
        "<a href=\"https://colab.research.google.com/github/Younesmoussaoui/chekpoints_SIC/blob/main/Chekpoint1.ipynb\" target=\"_parent\"><img src=\"https://colab.research.google.com/assets/colab-badge.svg\" alt=\"Open In Colab\"/></a>"
      ]
    },
    {
      "cell_type": "code",
      "execution_count": null,
      "metadata": {
        "colab": {
          "base_uri": "https://localhost:8080/"
        },
        "id": "nzkya0WR8hB7",
        "outputId": "824f1cae-38c4-4f4f-a597-62be2550e9e5"
      },
      "outputs": [
        {
          "output_type": "stream",
          "name": "stdout",
          "text": [
            "Welcome to python word! Let's start coding\n"
          ]
        }
      ],
      "source": [
        "print('Welcome to python word! Let\\'s start coding')"
      ]
    }
  ]
}