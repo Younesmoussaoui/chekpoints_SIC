{
  "nbformat": 4,
  "nbformat_minor": 0,
  "metadata": {
    "colab": {
      "name": "Chekpoint2.ipynb",
      "provenance": [],
      "authorship_tag": "ABX9TyPnacl2rqLm85e9ZXF3YTVm",
      "include_colab_link": true
    },
    "kernelspec": {
      "name": "python3",
      "display_name": "Python 3"
    },
    "language_info": {
      "name": "python"
    }
  },
  "cells": [
    {
      "cell_type": "markdown",
      "metadata": {
        "id": "view-in-github",
        "colab_type": "text"
      },
      "source": [
        "<a href=\"https://colab.research.google.com/github/Younesmoussaoui/chekpoints_SIC/blob/main/Chekpoint2.ipynb\" target=\"_parent\"><img src=\"https://colab.research.google.com/assets/colab-badge.svg\" alt=\"Open In Colab\"/></a>"
      ]
    },
    {
      "cell_type": "markdown",
      "source": [
        "# Question 1\n",
        "Write a program that will find all numbers which are divisible by 7 but are not a multiple of 5, between 2000 and 3200 (both included). The numbers obtained should be printed in a list.\n",
        "\n",
        "Hint: Consider using the range(#begin, #end) method"
      ],
      "metadata": {
        "id": "87WSgCF1B_Wh"
      }
    },
    {
      "cell_type": "code",
      "execution_count": null,
      "metadata": {
        "colab": {
          "base_uri": "https://localhost:8080/"
        },
        "id": "nzkya0WR8hB7",
        "outputId": "3c36c9f6-0fc0-44b8-a269-cae747fb5be7"
      },
      "outputs": [
        {
          "output_type": "execute_result",
          "data": {
            "text/plain": [
              "[2002,\n",
              " 2009,\n",
              " 2016,\n",
              " 2023,\n",
              " 2037,\n",
              " 2044,\n",
              " 2051,\n",
              " 2058,\n",
              " 2072,\n",
              " 2079,\n",
              " 2086,\n",
              " 2093,\n",
              " 2107,\n",
              " 2114,\n",
              " 2121,\n",
              " 2128,\n",
              " 2142,\n",
              " 2149,\n",
              " 2156,\n",
              " 2163,\n",
              " 2177,\n",
              " 2184,\n",
              " 2191,\n",
              " 2198,\n",
              " 2212,\n",
              " 2219,\n",
              " 2226,\n",
              " 2233,\n",
              " 2247,\n",
              " 2254,\n",
              " 2261,\n",
              " 2268,\n",
              " 2282,\n",
              " 2289,\n",
              " 2296,\n",
              " 2303,\n",
              " 2317,\n",
              " 2324,\n",
              " 2331,\n",
              " 2338,\n",
              " 2352,\n",
              " 2359,\n",
              " 2366,\n",
              " 2373,\n",
              " 2387,\n",
              " 2394,\n",
              " 2401,\n",
              " 2408,\n",
              " 2422,\n",
              " 2429,\n",
              " 2436,\n",
              " 2443,\n",
              " 2457,\n",
              " 2464,\n",
              " 2471,\n",
              " 2478,\n",
              " 2492,\n",
              " 2499,\n",
              " 2506,\n",
              " 2513,\n",
              " 2527,\n",
              " 2534,\n",
              " 2541,\n",
              " 2548,\n",
              " 2562,\n",
              " 2569,\n",
              " 2576,\n",
              " 2583,\n",
              " 2597,\n",
              " 2604,\n",
              " 2611,\n",
              " 2618,\n",
              " 2632,\n",
              " 2639,\n",
              " 2646,\n",
              " 2653,\n",
              " 2667,\n",
              " 2674,\n",
              " 2681,\n",
              " 2688,\n",
              " 2702,\n",
              " 2709,\n",
              " 2716,\n",
              " 2723,\n",
              " 2737,\n",
              " 2744,\n",
              " 2751,\n",
              " 2758,\n",
              " 2772,\n",
              " 2779,\n",
              " 2786,\n",
              " 2793,\n",
              " 2807,\n",
              " 2814,\n",
              " 2821,\n",
              " 2828,\n",
              " 2842,\n",
              " 2849,\n",
              " 2856,\n",
              " 2863,\n",
              " 2877,\n",
              " 2884,\n",
              " 2891,\n",
              " 2898,\n",
              " 2912,\n",
              " 2919,\n",
              " 2926,\n",
              " 2933,\n",
              " 2947,\n",
              " 2954,\n",
              " 2961,\n",
              " 2968,\n",
              " 2982,\n",
              " 2989,\n",
              " 2996,\n",
              " 3003,\n",
              " 3017,\n",
              " 3024,\n",
              " 3031,\n",
              " 3038,\n",
              " 3052,\n",
              " 3059,\n",
              " 3066,\n",
              " 3073,\n",
              " 3087,\n",
              " 3094,\n",
              " 3101,\n",
              " 3108,\n",
              " 3122,\n",
              " 3129,\n",
              " 3136,\n",
              " 3143,\n",
              " 3157,\n",
              " 3164,\n",
              " 3171,\n",
              " 3178,\n",
              " 3192,\n",
              " 3199]"
            ]
          },
          "metadata": {},
          "execution_count": 1
        }
      ],
      "source": [
        "l = []\n",
        "for i in range(2000,3200):\n",
        "  if i%7 == 0 and i%5!=0:\n",
        "    l.append(i)\n",
        "l"
      ]
    },
    {
      "cell_type": "markdown",
      "source": [
        "# Question 2\n",
        "Write a program that can compute the factorial of a given number. (The factorial of n is the product of all positive integers less than or equal to n.) For example: For factorial(5)= 5 x 4 x 3 x 2 x 1 the result is 120 (i.e. factorial (0)=1)."
      ],
      "metadata": {
        "id": "mzKp4YNgDEj1"
      }
    },
    {
      "cell_type": "code",
      "source": [
        "def fact(m):\n",
        "  if m>1:\n",
        "    facto = m*fact(m-1)\n",
        "  else :\n",
        "    facto = 1\n",
        "  return facto\n",
        "\n",
        "fact(12)\n",
        "\n"
      ],
      "metadata": {
        "colab": {
          "base_uri": "https://localhost:8080/"
        },
        "id": "lDUfSZiZDMOi",
        "outputId": "46faa828-3adb-4c95-be63-1f252dbca941"
      },
      "execution_count": null,
      "outputs": [
        {
          "output_type": "execute_result",
          "data": {
            "text/plain": [
              "479001600"
            ]
          },
          "metadata": {},
          "execution_count": 4
        }
      ]
    },
    {
      "cell_type": "markdown",
      "source": [
        "# Question 3\n",
        "With a given integer number n, write a program to generate a dictionary that contains (i, i*i) such that is an integral number between 1 and n (both included). Then, the program should print the dictionary. Suppose the following input is supplied to the program: 8 Then, the output should be: {1: 1, 2: 4, 3: 9, 4: 16, 5: 25, 6: 36, 7: 49, 8: 64}"
      ],
      "metadata": {
        "id": "X68vNI41ESEm"
      }
    },
    {
      "cell_type": "code",
      "source": [
        "def dect(m):\n",
        "  l = []\n",
        "  p = []\n",
        "  for i in range(1,m+1):\n",
        "    l.append(i)\n",
        "    p.append(i**2)\n",
        "  o = dict(zip(l,p))\n",
        "  print(o)\n",
        "dect(10)"
      ],
      "metadata": {
        "colab": {
          "base_uri": "https://localhost:8080/"
        },
        "id": "pFwA4C18EXp0",
        "outputId": "16f35b45-e9a6-42e9-e0da-23c5a623e95b"
      },
      "execution_count": null,
      "outputs": [
        {
          "output_type": "stream",
          "name": "stdout",
          "text": [
            "{1: 1, 2: 4, 3: 9, 4: 16, 5: 25, 6: 36, 7: 49, 8: 64, 9: 81, 10: 100}\n"
          ]
        }
      ]
    },
    {
      "cell_type": "markdown",
      "source": [
        "# Question 4\n",
        "Given a non-empty string and an integral n, return a new string where the char at index n has been removed. The value of n will be a valid index of a char in the original string (i.e. n will be in the range 0..len(str)-1 inclusive).\n",
        "\n",
        "missing_char('kitten', 1) → 'ktten' for example here we remove \"i\" which is located in the index 1\n",
        "\n",
        "missing_char('kitten', 0) → 'itten' here we remove \"k\" which is in the index 0\n",
        "\n",
        "missing_char('kitten', 4) → 'kittn' here we remove \"e\" which is in the index 4"
      ],
      "metadata": {
        "id": "HSg6GnzJGAb4"
      }
    },
    {
      "cell_type": "code",
      "source": [
        "def strr(charc,n):\n",
        "  nw_chrc = charc[:n]+charc[n+1:]\n",
        "  return nw_chrc\n",
        "strr('younes',1)\n",
        "##### 2em Methode #####\n",
        "def strr2(f,m):\n",
        "  y = list(f)\n",
        "  del y[m]\n",
        "  nww_ch = ''.join(y)\n",
        "  return nww_ch\n",
        "strr2('younes',1)"
      ],
      "metadata": {
        "colab": {
          "base_uri": "https://localhost:8080/",
          "height": 35
        },
        "id": "KIWJgoIYGHcQ",
        "outputId": "5ba9fbd1-0c84-4f43-91f3-f39d4a61eec2"
      },
      "execution_count": null,
      "outputs": [
        {
          "output_type": "execute_result",
          "data": {
            "text/plain": [
              "'yunes'"
            ],
            "application/vnd.google.colaboratory.intrinsic+json": {
              "type": "string"
            }
          },
          "metadata": {},
          "execution_count": 24
        }
      ]
    },
    {
      "cell_type": "markdown",
      "source": [
        "# Question 5\n",
        "Write a NumPy program to convert a NumPy array into a Python list structure.\n",
        "\n",
        "Expected output:\n",
        "\n",
        "Original array elements: [[0 1] [2 3] [4 5]]\n",
        "\n",
        "Array to list: [[0, 1], [2, 3], [4, 5]]\n",
        "\n",
        "Hint: We can use the to_list() function to ensure the conversion."
      ],
      "metadata": {
        "id": "Dy3aPivtNSjo"
      }
    },
    {
      "cell_type": "code",
      "source": [
        "import numpy as np\n",
        "\n",
        "tab = np.array([[0,1],[2,3],[4,5]])\n",
        "liste = tab.tolist()\n",
        "liste"
      ],
      "metadata": {
        "colab": {
          "base_uri": "https://localhost:8080/"
        },
        "id": "PUMwCp06NYBt",
        "outputId": "e0e01ffe-fe3c-445e-97a9-3dbe7d0cbaeb"
      },
      "execution_count": null,
      "outputs": [
        {
          "output_type": "execute_result",
          "data": {
            "text/plain": [
              "[[0, 1], [2, 3], [4, 5]]"
            ]
          },
          "metadata": {},
          "execution_count": 32
        }
      ]
    },
    {
      "cell_type": "markdown",
      "source": [
        "# Question 6\n",
        "Write a NumPy program to compute the covariance matrix of two given arrays.\n",
        "\n",
        "Original array1: [0 1 2]\n",
        "\n",
        "Original array2: [2 1 0]\n",
        "\n",
        "Covariance matrix of the said arrays: [[ 1. -1.] [-1. 1.]]\n",
        "\n",
        "Hint: We can use the np.cov() function to calculate the covariance between these two arrays"
      ],
      "metadata": {
        "id": "tgli-C6wU7JH"
      }
    },
    {
      "cell_type": "code",
      "source": [
        "tab1 = np.array([[0,1,2]])\n",
        "tab2 = np.array([[2,1,0]])\n",
        "cova = np.cov(tab1,tab2)\n",
        "cova"
      ],
      "metadata": {
        "colab": {
          "base_uri": "https://localhost:8080/"
        },
        "id": "zfqk8EDLVY6b",
        "outputId": "de10565f-98d3-4874-a801-ba455d05b650"
      },
      "execution_count": null,
      "outputs": [
        {
          "output_type": "execute_result",
          "data": {
            "text/plain": [
              "array([[ 1., -1.],\n",
              "       [-1.,  1.]])"
            ]
          },
          "metadata": {},
          "execution_count": 34
        }
      ]
    },
    {
      "cell_type": "markdown",
      "source": [
        "# Question 7\n",
        "Question: Write a program that calculates and prints the value according to the given formula: Q= Square root of [(2 * C * D)/H]\n",
        "\n",
        "The following are the fixed values of C and H: C is 50. H is 30.\n",
        "\n",
        "D is the variable whose values should be input into your program in a comma-separated sequence. (That means D contains more than value)\n",
        "\n",
        "Example: Let's assume the following comma-separated input sequence is given to the program: 100,150,180 The output of the program should be 18,22,24\n",
        "\n",
        "To further explain this, we will obtain a result for each value of D: Q1= Square root of [(2 * C * 100)/H] =18, Q2= Square root of [(2 * C * 150)/H] = 22 and Q3 = Square root of [(2 * C * 180)/H] = 24\n",
        "\n",
        "Hint: If the output received is in decimal form, it should be rounded off to its nearest value. For example, if the output received is 26.0, it should be printed as 26. In case of input data being supplied to the question, it should be assumed to be a console input."
      ],
      "metadata": {
        "id": "3MJ2gVjFXns8"
      }
    },
    {
      "cell_type": "code",
      "source": [
        "K =x,y,z= input('Entrez trois nombres : ').split(',')\n",
        "D = [int(i) for i in K]\n",
        "C = 50\n",
        "H = 30\n",
        "U = []\n",
        "for j in D :\n",
        "  q = [2*C*j/H]\n",
        "  u = str(round(sqrt(q[0])))\n",
        "  U.append(u)\n",
        "n=','.join(U)\n",
        "print(n)"
      ],
      "metadata": {
        "colab": {
          "base_uri": "https://localhost:8080/"
        },
        "id": "bTJasS9YXtQN",
        "outputId": "2978fc4c-3b22-4b63-e5fb-94dbc382c83b"
      },
      "execution_count": null,
      "outputs": [
        {
          "output_type": "stream",
          "name": "stdout",
          "text": [
            "Entrez trois nombres : 100,150,180\n",
            "18,22,24\n"
          ]
        }
      ]
    }
  ]
}